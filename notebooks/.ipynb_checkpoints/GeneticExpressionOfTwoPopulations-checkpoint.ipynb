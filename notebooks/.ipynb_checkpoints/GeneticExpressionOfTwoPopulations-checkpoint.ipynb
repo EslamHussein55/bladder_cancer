{
 "cells": [
  {
   "cell_type": "markdown",
   "metadata": {
    "id": "wojgJkgFeuDe"
   },
   "source": [
    "## Methodology for comparing the genetic expression levels for two populations\n",
    "\n",
    "In medical research, RNA sequence data is used to find the level of expression of different genes within the genome. Researchers may use RNA sequence data from patients to identify genes whose mean expression levels differ two populations  (e.g. male versus female or cancerous versus non-cancerous).  In classical statistics, significant differences between population means is done using a t-test: a t statistic is computed for each gene, and p-values are computed based on the t statistics. Typically researchers want to identify which population has the higher expression level, so they can compute the two one-sided p-values for each gene.  The smaller the p-value, the greater the likelihood that the expression level is significantly different.\n",
    "\n",
    "However, there are some problems with using the t-test in this case. The t-test is based on the assumption that gene expression levels are normally distributed, which is definitely not the case. Furthermore, because so many genes are being tested (more than 20,000, in the human genome), some will genes will give very small p-values simply due to random variation. \n",
    "So the question arises, How many of the genes with low p-values really represent significant differences between the two populations?\n",
    "\n",
    "In order to answer this question, we may turn to a newer statistical technique called $resampling$. Compared to the t-test, resampling is much more computationally intensive and requires a computer (unlike the t-test, which may be done by hand). Resampling does not assume normality, but instead uses the samples themselves as empirical distributions. \n",
    "\n",
    "In order to illustrate how resampling works in this case, we give an example. Suppose we have genetic data from two samples of patients drawn from two different populations. We denote these genetic samples as $A$ and $B$, respectively. In the following procedure, we will estimate how many of the genes in $B$ have statistically significantly higher expression levels in $B$ than in $A$. \n",
    "\n",
    "First, there are some genes that we can remove from consideration. For a few genes, only a few patients have nonzero expression levels and most patients have zero expression. Such genes can have very low p-values (for example, if all the nonzero patients are in group $A$), but since so few values are nonzer it cannot be concluded that there are statistically significant differences, so these genes may be excluded. \n",
    "\n",
    "Next we define a procedure (which we denote as $P$) that we will apply repeatedly. Procedure $P$ begins by  drawing a random samples $C_1$ (with replacement) from $A$, where $C_1$ has the same size as $B$. Next, we compute p-values for the hypothesis $C_1 > A$, and identify all genes that have a lower p-values for $C_1 > A$ than in $B > A$. For these genes, the difference in expression level between $A$ and $B$ can be attributed to chance, as random sample $C_1$ obtains a comparable expression level. These genes may thus be removed from consideration. We redraw random samples $C_2$ (with replacement) from $A$ and identify genes $g$ that have a lower p-values for $C_2 > A$ than for $B > A$. As before, these genes may be removed from consideration. We repeat this for $C_3, C_4, \\ldots C_N$, where $N$ is a large value. For the genes that remain, we have a high confidence that these are significantly higher in $B$ than in $A$. However, it is still possible that some of the remaining genes have high expression levels by chance. To determine whether this is the case, we apply procedure $P$ repeatedly to samples $A'$, $A''$, $A''', \\ldots$ which are all drawn independently with replacement from $A$. We may take the number of genes remaining when $P$ is applied to $B$ and subtract the average number of genes remaining when $P$ is applied to $A'$, $A''$, $A''', \\ldots$. This will give us the number of high gene values in $B$ that may be attributable to statistical significant difference, and not to chance.\n",
    "\n",
    "In the above we have described the procedure for determining the number of genes that are elevated in $B$ compared to $A$. We may apply the same procedure to determine the number of genes that are elevated in $A$ compared to $B$, just by reversing the comparisons.\n",
    "\n",
    "In order to test this procedure, we construct a simulated distribution for gene expression levels for two populations, and apply the test described above to see if significant differences can be detected. The simulated distribution is constructed as follows:\n",
    "\n",
    "* Generate 20,000 random normal values $m_1,\\ldots m_{20000}$ with mean 2 and standard deviation 1. These will be the gene mean values.\n",
    "* For each value $m_j$, generate 400 random normal values with mean $m_j$ and standard deviation 0.3. Arrange the results in a 20,000 by 400 matrix.\n",
    "* Take the exponential of these values, and subtract 1.  Then replace all negative values with 0.\n",
    "* Population $A$ will be the first 300 columns.\n",
    "* To get population $B$, proceed as follows. Take the last 100 columns Randomly choose 500 genes  and add 5*np.sign(np.random.normal) to each of these genes. Replace all negative values with 0.   \n",
    "\n"
   ]
  }
 ],
 "metadata": {
  "accelerator": "GPU",
  "colab": {
   "collapsed_sections": [],
   "name": "bladderCancerDataAnalysis_NB1.ipynb",
   "provenance": []
  },
  "kernelspec": {
   "display_name": "Python 3 (ipykernel)",
   "language": "python",
   "name": "python3"
  },
  "language_info": {
   "codemirror_mode": {
    "name": "ipython",
    "version": 3
   },
   "file_extension": ".py",
   "mimetype": "text/x-python",
   "name": "python",
   "nbconvert_exporter": "python",
   "pygments_lexer": "ipython3",
   "version": "3.9.7"
  }
 },
 "nbformat": 4,
 "nbformat_minor": 1
}

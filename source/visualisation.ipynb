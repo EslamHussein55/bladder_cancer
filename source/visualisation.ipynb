{
 "cells": [
  {
   "cell_type": "markdown",
   "id": "c04a89da-f0fb-4d88-b8ec-3fd2540ba641",
   "metadata": {},
   "source": [
    "Hello, this notebook will visualise the data"
   ]
  },
  {
   "cell_type": "markdown",
   "id": "8f6c48ae-6ab4-47c6-9051-8b1d8e8d38c1",
   "metadata": {},
   "source": [
    "#### Reading the data as a dataframe"
   ]
  },
  {
   "cell_type": "code",
   "execution_count": 92,
   "id": "057ac55b-eabf-428d-9850-814c22d4b163",
   "metadata": {},
   "outputs": [],
   "source": [
    "import pandas as pd\n",
    "import numpy as np\n",
    "import matplotlib.pyplot as plt"
   ]
  },
  {
   "cell_type": "code",
   "execution_count": 93,
   "id": "f7259bcf-cfed-4ef8-bc70-69b8bdd67ab1",
   "metadata": {},
   "outputs": [],
   "source": [
    "df_cp = pd.read_csv('/users/hussein/source/bladder_cancer/data/data_clinical_patient.csv')\n",
    "df_mrna = pd.read_csv('/users/hussein/source/bladder_cancer/data/data_mrna_seq_v2_rsem.csv')\n"
   ]
  },
  {
   "cell_type": "markdown",
   "id": "c7cb2c74-9ab9-4acd-9bef-bfd2d5d98596",
   "metadata": {},
   "source": [
    "### data_clinical_patient (df_cp) visualisation"
   ]
  },
  {
   "cell_type": "code",
   "execution_count": 94,
   "id": "a7ac562b-6683-472a-aa9e-8ec78e7310ac",
   "metadata": {},
   "outputs": [
    {
     "name": "stdout",
     "output_type": "stream",
     "text": [
      "(415, 38)\n",
      "   Unnamed: 0                         #Patient Identifier  Subtype  \\\n",
      "0           0  #Identifier to uniquely specify a patient.  Subtype   \n",
      "1           1                                     #STRING   STRING   \n",
      "2           2                                          #1        1   \n",
      "3           3                                  PATIENT_ID  SUBTYPE   \n",
      "4           4                                TCGA-2F-A9KO     BLCA   \n",
      "\n",
      "                TCGA PanCanAtlas Cancer Type Acronym  \\\n",
      "0  Text field to hold cancer type acronym used by...   \n",
      "1                                             STRING   \n",
      "2                                                  1   \n",
      "3                                CANCER_TYPE_ACRONYM   \n",
      "4                                               BLCA   \n",
      "\n",
      "                          Other Patient ID  \\\n",
      "0  Legacy DMP patient identifier (DMPnnnn)   \n",
      "1                                   STRING   \n",
      "2                                        1   \n",
      "3                         OTHER_PATIENT_ID   \n",
      "4     DD3A6357-9087-44B2-9956-F981E0DE6F1C   \n",
      "\n",
      "                                       Diagnosis Age     Sex  \\\n",
      "0  Age at which a condition or disease was first ...     Sex   \n",
      "1                                             NUMBER  STRING   \n",
      "2                                                  1       1   \n",
      "3                                                AGE     SEX   \n",
      "4                                                 63    Male   \n",
      "\n",
      "  Neoplasm Disease Stage American Joint Committee on Cancer Code  \\\n",
      "0  The extent of a cancer, especially whether the...               \n",
      "1                                             STRING               \n",
      "2                                                  1               \n",
      "3                        AJCC_PATHOLOGIC_TUMOR_STAGE               \n",
      "4                                           STAGE IV               \n",
      "\n",
      "  American Joint Committee on Cancer Publication Version Type  \\\n",
      "0  The version or edition of the American Joint C...            \n",
      "1                                             STRING            \n",
      "2                                                  1            \n",
      "3                               AJCC_STAGING_EDITION            \n",
      "4                                                6TH            \n",
      "\n",
      "  Last Communication Contact from Initial Pathologic Diagnosis Date  ...  \\\n",
      "0  Time interval from the date of last followup t...                 ...   \n",
      "1                                             NUMBER                 ...   \n",
      "2                                                  1                 ...   \n",
      "3                                 DAYS_LAST_FOLLOWUP                 ...   \n",
      "4                                                678                 ...   \n",
      "\n",
      "                  Patient Weight               In PanCan Pathway Analysis  \\\n",
      "0  Weight measured in kilograms.  Patient Part of PanCan Pathway Analysis   \n",
      "1                         NUMBER                                   STRING   \n",
      "2                              1                                        1   \n",
      "3                         WEIGHT                 IN_PANCANPATHWAYS_FREEZE   \n",
      "4                             65                                      Yes   \n",
      "\n",
      "            Overall Survival Status  \\\n",
      "0  Overall patient survival status.   \n",
      "1                            STRING   \n",
      "2                                 9   \n",
      "3                         OS_STATUS   \n",
      "4                        1:DECEASED   \n",
      "\n",
      "                           Overall Survival (Months)  \\\n",
      "0  Overall survival in months since initial diago...   \n",
      "1                                             NUMBER   \n",
      "2                                                  1   \n",
      "3                                          OS_MONTHS   \n",
      "4                                         24.1312424   \n",
      "\n",
      "                    Disease-specific Survival status  \\\n",
      "0  The time period usually begins at the time of ...   \n",
      "1                                             STRING   \n",
      "2                                                  1   \n",
      "3                                         DSS_STATUS   \n",
      "4                                  1:DEAD WITH TUMOR   \n",
      "\n",
      "                 Months of disease-specific survival  \\\n",
      "0  The time period (months) usually begins at the...   \n",
      "1                                             NUMBER   \n",
      "2                                                  1   \n",
      "3                                         DSS_MONTHS   \n",
      "4                                         24.1312424   \n",
      "\n",
      "                            Disease Free Status  \\\n",
      "0  Disease free status since initial treatment.   \n",
      "1                                        STRING   \n",
      "2                                             1   \n",
      "3                                    DFS_STATUS   \n",
      "4                                           NaN   \n",
      "\n",
      "                            Disease Free (Months)  Progression Free Status  \\\n",
      "0  Disease free (months) since initial treatment.  Progression Free Status   \n",
      "1                                          NUMBER                   STRING   \n",
      "2                                               1                        1   \n",
      "3                                      DFS_MONTHS               PFS_STATUS   \n",
      "4                                             NaN            1:PROGRESSION   \n",
      "\n",
      "   Progress Free Survival (Months)  \n",
      "0  Progress Free Survival (Months)  \n",
      "1                           NUMBER  \n",
      "2                                1  \n",
      "3                       PFS_MONTHS  \n",
      "4                      21.40250518  \n",
      "\n",
      "[5 rows x 38 columns]\n"
     ]
    }
   ],
   "source": [
    "print(df_cp.shape)\n",
    "print(df_cp.head(5))"
   ]
  },
  {
   "cell_type": "markdown",
   "id": "6d554d90-607d-4d9f-abe5-88e66eef7d7a",
   "metadata": {},
   "source": [
    "okay, it seems that the first 4 rows are basically the head. so we will need to delet the first 3 rows. also the first col, its just numbers and they are wrong"
   ]
  },
  {
   "cell_type": "code",
   "execution_count": 95,
   "id": "55e8ba14-55c2-40ac-9815-20853824da9e",
   "metadata": {},
   "outputs": [],
   "source": [
    "df_cp = df_cp.iloc[4:] # for the rows\n",
    "df_cp = df_cp.iloc[: , 1:] # for the col\n",
    "\n"
   ]
  },
  {
   "cell_type": "code",
   "execution_count": 96,
   "id": "1fd27ad8-cd4a-47b2-8aab-190ba49225e2",
   "metadata": {},
   "outputs": [
    {
     "data": {
      "text/html": [
       "<div>\n",
       "<style scoped>\n",
       "    .dataframe tbody tr th:only-of-type {\n",
       "        vertical-align: middle;\n",
       "    }\n",
       "\n",
       "    .dataframe tbody tr th {\n",
       "        vertical-align: top;\n",
       "    }\n",
       "\n",
       "    .dataframe thead th {\n",
       "        text-align: right;\n",
       "    }\n",
       "</style>\n",
       "<table border=\"1\" class=\"dataframe\">\n",
       "  <thead>\n",
       "    <tr style=\"text-align: right;\">\n",
       "      <th></th>\n",
       "      <th>#Patient Identifier</th>\n",
       "      <th>Subtype</th>\n",
       "      <th>TCGA PanCanAtlas Cancer Type Acronym</th>\n",
       "      <th>Other Patient ID</th>\n",
       "      <th>Diagnosis Age</th>\n",
       "      <th>Sex</th>\n",
       "      <th>Neoplasm Disease Stage American Joint Committee on Cancer Code</th>\n",
       "      <th>American Joint Committee on Cancer Publication Version Type</th>\n",
       "      <th>Last Communication Contact from Initial Pathologic Diagnosis Date</th>\n",
       "      <th>Birth from Initial Pathologic Diagnosis Date</th>\n",
       "      <th>...</th>\n",
       "      <th>Patient Weight</th>\n",
       "      <th>In PanCan Pathway Analysis</th>\n",
       "      <th>Overall Survival Status</th>\n",
       "      <th>Overall Survival (Months)</th>\n",
       "      <th>Disease-specific Survival status</th>\n",
       "      <th>Months of disease-specific survival</th>\n",
       "      <th>Disease Free Status</th>\n",
       "      <th>Disease Free (Months)</th>\n",
       "      <th>Progression Free Status</th>\n",
       "      <th>Progress Free Survival (Months)</th>\n",
       "    </tr>\n",
       "  </thead>\n",
       "  <tbody>\n",
       "    <tr>\n",
       "      <th>4</th>\n",
       "      <td>TCGA-2F-A9KO</td>\n",
       "      <td>BLCA</td>\n",
       "      <td>BLCA</td>\n",
       "      <td>DD3A6357-9087-44B2-9956-F981E0DE6F1C</td>\n",
       "      <td>63</td>\n",
       "      <td>Male</td>\n",
       "      <td>STAGE IV</td>\n",
       "      <td>6TH</td>\n",
       "      <td>678</td>\n",
       "      <td>-23323</td>\n",
       "      <td>...</td>\n",
       "      <td>65</td>\n",
       "      <td>Yes</td>\n",
       "      <td>1:DECEASED</td>\n",
       "      <td>24.1312424</td>\n",
       "      <td>1:DEAD WITH TUMOR</td>\n",
       "      <td>24.1312424</td>\n",
       "      <td>NaN</td>\n",
       "      <td>NaN</td>\n",
       "      <td>1:PROGRESSION</td>\n",
       "      <td>21.40250518</td>\n",
       "    </tr>\n",
       "    <tr>\n",
       "      <th>5</th>\n",
       "      <td>TCGA-2F-A9KP</td>\n",
       "      <td>BLCA</td>\n",
       "      <td>BLCA</td>\n",
       "      <td>65D1EAEC-28DB-4A41-A4DB-1A710FCB24AD</td>\n",
       "      <td>66</td>\n",
       "      <td>Male</td>\n",
       "      <td>STAGE IV</td>\n",
       "      <td>7TH</td>\n",
       "      <td>NaN</td>\n",
       "      <td>-24428</td>\n",
       "      <td>...</td>\n",
       "      <td>130</td>\n",
       "      <td>Yes</td>\n",
       "      <td>1:DECEASED</td>\n",
       "      <td>11.96699214</td>\n",
       "      <td>1:DEAD WITH TUMOR</td>\n",
       "      <td>11.96699214</td>\n",
       "      <td>NaN</td>\n",
       "      <td>NaN</td>\n",
       "      <td>1:PROGRESSION</td>\n",
       "      <td>11.27658875</td>\n",
       "    </tr>\n",
       "    <tr>\n",
       "      <th>6</th>\n",
       "      <td>TCGA-2F-A9KQ</td>\n",
       "      <td>BLCA</td>\n",
       "      <td>BLCA</td>\n",
       "      <td>25EAF3F9-C364-423C-AAAE-925E7B393AFC</td>\n",
       "      <td>69</td>\n",
       "      <td>Male</td>\n",
       "      <td>STAGE III</td>\n",
       "      <td>6TH</td>\n",
       "      <td>2886</td>\n",
       "      <td>-25259</td>\n",
       "      <td>...</td>\n",
       "      <td>72</td>\n",
       "      <td>Yes</td>\n",
       "      <td>0:LIVING</td>\n",
       "      <td>94.88115199</td>\n",
       "      <td>0:ALIVE OR DEAD TUMOR FREE</td>\n",
       "      <td>94.88115199</td>\n",
       "      <td>0:DiseaseFree</td>\n",
       "      <td>94.88115199</td>\n",
       "      <td>0:CENSORED</td>\n",
       "      <td>94.88115199</td>\n",
       "    </tr>\n",
       "    <tr>\n",
       "      <th>7</th>\n",
       "      <td>TCGA-2F-A9KR</td>\n",
       "      <td>BLCA</td>\n",
       "      <td>BLCA</td>\n",
       "      <td>F6D916B0-8E4C-49CB-A0D4-883908F3284F</td>\n",
       "      <td>59</td>\n",
       "      <td>Female</td>\n",
       "      <td>STAGE III</td>\n",
       "      <td>5TH</td>\n",
       "      <td>3148</td>\n",
       "      <td>-21848</td>\n",
       "      <td>...</td>\n",
       "      <td>80</td>\n",
       "      <td>Yes</td>\n",
       "      <td>1:DECEASED</td>\n",
       "      <td>104.6454285</td>\n",
       "      <td>1:DEAD WITH TUMOR</td>\n",
       "      <td>104.6454285</td>\n",
       "      <td>1:Recurred/Progressed</td>\n",
       "      <td>101.4564224</td>\n",
       "      <td>1:PROGRESSION</td>\n",
       "      <td>101.4564224</td>\n",
       "    </tr>\n",
       "    <tr>\n",
       "      <th>8</th>\n",
       "      <td>TCGA-2F-A9KT</td>\n",
       "      <td>BLCA</td>\n",
       "      <td>BLCA</td>\n",
       "      <td>BC6C516B-591E-4950-B6B0-DECAFA666F4E</td>\n",
       "      <td>83</td>\n",
       "      <td>Male</td>\n",
       "      <td>STAGE II</td>\n",
       "      <td>6TH</td>\n",
       "      <td>3314</td>\n",
       "      <td>-30520</td>\n",
       "      <td>...</td>\n",
       "      <td>80</td>\n",
       "      <td>Yes</td>\n",
       "      <td>0:LIVING</td>\n",
       "      <td>108.9522307</td>\n",
       "      <td>0:ALIVE OR DEAD TUMOR FREE</td>\n",
       "      <td>108.9522307</td>\n",
       "      <td>0:DiseaseFree</td>\n",
       "      <td>108.9522307</td>\n",
       "      <td>0:CENSORED</td>\n",
       "      <td>108.9522307</td>\n",
       "    </tr>\n",
       "  </tbody>\n",
       "</table>\n",
       "<p>5 rows × 37 columns</p>\n",
       "</div>"
      ],
      "text/plain": [
       "  #Patient Identifier Subtype TCGA PanCanAtlas Cancer Type Acronym  \\\n",
       "4        TCGA-2F-A9KO    BLCA                                 BLCA   \n",
       "5        TCGA-2F-A9KP    BLCA                                 BLCA   \n",
       "6        TCGA-2F-A9KQ    BLCA                                 BLCA   \n",
       "7        TCGA-2F-A9KR    BLCA                                 BLCA   \n",
       "8        TCGA-2F-A9KT    BLCA                                 BLCA   \n",
       "\n",
       "                       Other Patient ID Diagnosis Age     Sex  \\\n",
       "4  DD3A6357-9087-44B2-9956-F981E0DE6F1C            63    Male   \n",
       "5  65D1EAEC-28DB-4A41-A4DB-1A710FCB24AD            66    Male   \n",
       "6  25EAF3F9-C364-423C-AAAE-925E7B393AFC            69    Male   \n",
       "7  F6D916B0-8E4C-49CB-A0D4-883908F3284F            59  Female   \n",
       "8  BC6C516B-591E-4950-B6B0-DECAFA666F4E            83    Male   \n",
       "\n",
       "  Neoplasm Disease Stage American Joint Committee on Cancer Code  \\\n",
       "4                                           STAGE IV               \n",
       "5                                           STAGE IV               \n",
       "6                                          STAGE III               \n",
       "7                                          STAGE III               \n",
       "8                                           STAGE II               \n",
       "\n",
       "  American Joint Committee on Cancer Publication Version Type  \\\n",
       "4                                                6TH            \n",
       "5                                                7TH            \n",
       "6                                                6TH            \n",
       "7                                                5TH            \n",
       "8                                                6TH            \n",
       "\n",
       "  Last Communication Contact from Initial Pathologic Diagnosis Date  \\\n",
       "4                                                678                  \n",
       "5                                                NaN                  \n",
       "6                                               2886                  \n",
       "7                                               3148                  \n",
       "8                                               3314                  \n",
       "\n",
       "  Birth from Initial Pathologic Diagnosis Date  ... Patient Weight  \\\n",
       "4                                       -23323  ...             65   \n",
       "5                                       -24428  ...            130   \n",
       "6                                       -25259  ...             72   \n",
       "7                                       -21848  ...             80   \n",
       "8                                       -30520  ...             80   \n",
       "\n",
       "  In PanCan Pathway Analysis Overall Survival Status  \\\n",
       "4                        Yes              1:DECEASED   \n",
       "5                        Yes              1:DECEASED   \n",
       "6                        Yes                0:LIVING   \n",
       "7                        Yes              1:DECEASED   \n",
       "8                        Yes                0:LIVING   \n",
       "\n",
       "  Overall Survival (Months) Disease-specific Survival status  \\\n",
       "4                24.1312424                1:DEAD WITH TUMOR   \n",
       "5               11.96699214                1:DEAD WITH TUMOR   \n",
       "6               94.88115199       0:ALIVE OR DEAD TUMOR FREE   \n",
       "7               104.6454285                1:DEAD WITH TUMOR   \n",
       "8               108.9522307       0:ALIVE OR DEAD TUMOR FREE   \n",
       "\n",
       "  Months of disease-specific survival    Disease Free Status  \\\n",
       "4                          24.1312424                    NaN   \n",
       "5                         11.96699214                    NaN   \n",
       "6                         94.88115199          0:DiseaseFree   \n",
       "7                         104.6454285  1:Recurred/Progressed   \n",
       "8                         108.9522307          0:DiseaseFree   \n",
       "\n",
       "  Disease Free (Months) Progression Free Status  \\\n",
       "4                   NaN           1:PROGRESSION   \n",
       "5                   NaN           1:PROGRESSION   \n",
       "6           94.88115199              0:CENSORED   \n",
       "7           101.4564224           1:PROGRESSION   \n",
       "8           108.9522307              0:CENSORED   \n",
       "\n",
       "  Progress Free Survival (Months)  \n",
       "4                     21.40250518  \n",
       "5                     11.27658875  \n",
       "6                     94.88115199  \n",
       "7                     101.4564224  \n",
       "8                     108.9522307  \n",
       "\n",
       "[5 rows x 37 columns]"
      ]
     },
     "execution_count": 96,
     "metadata": {},
     "output_type": "execute_result"
    }
   ],
   "source": [
    "df_cp.shape\n",
    "df_cp.head()"
   ]
  },
  {
   "cell_type": "markdown",
   "id": "43cb4030-9585-4000-a20b-de48a196734b",
   "metadata": {},
   "source": [
    "---"
   ]
  },
  {
   "cell_type": "markdown",
   "id": "3ceb523e-92b4-4e2c-a363-13c75f9c99c4",
   "metadata": {},
   "source": [
    "### data_mrna_seq_v2_rsem (df_mrna) visualisation"
   ]
  },
  {
   "cell_type": "code",
   "execution_count": 97,
   "id": "b02e06f8-fc41-4f3a-975e-5c836d2a33bd",
   "metadata": {},
   "outputs": [
    {
     "name": "stdout",
     "output_type": "stream",
     "text": [
      "(20531, 410)\n",
      "   Unnamed: 0 Hugo_Symbol  Entrez_Gene_Id  TCGA-2F-A9KO-01  TCGA-2F-A9KP-01  \\\n",
      "0           0         NaN       100130426           0.0000           0.0000   \n",
      "1           1         NaN       100133144          20.4373          16.1382   \n",
      "2           2    UBE2Q2P2       100134869          37.8717          12.5759   \n",
      "3           3     HMGB1P1           10357         123.0900         137.8860   \n",
      "4           4         NaN           10431         702.0410         882.2310   \n",
      "\n",
      "   TCGA-2F-A9KQ-01  TCGA-2F-A9KR-01  TCGA-2F-A9KT-01  TCGA-2F-A9KW-01  \\\n",
      "0           0.0000           0.0000           0.0000           0.0000   \n",
      "1          13.3333          15.3523          14.0136           7.1159   \n",
      "2          10.7742          42.5810          17.6427           2.3091   \n",
      "3         104.6780         146.4530         142.9620         176.8770   \n",
      "4         954.1030         487.2100         954.7770        1586.0300   \n",
      "\n",
      "   TCGA-4Z-AA7M-01  ...  TCGA-ZF-AA4X-01  TCGA-ZF-AA51-01  TCGA-ZF-AA52-01  \\\n",
      "0           0.0000  ...           0.0000           0.0000           0.0000   \n",
      "1          22.4891  ...          24.0360           0.0000           4.2992   \n",
      "2          45.0490  ...          10.3812           5.2751          14.5465   \n",
      "3         126.3560  ...          58.4972         119.0880          91.4959   \n",
      "4         634.5320  ...         841.2210         859.0810         753.8280   \n",
      "\n",
      "   TCGA-ZF-AA53-01  TCGA-ZF-AA54-01  TCGA-ZF-AA56-01  TCGA-ZF-AA58-01  \\\n",
      "0           0.0000           0.0000           0.4411           0.4216   \n",
      "1           0.0000           4.6306           5.8271           1.7032   \n",
      "2           6.8871           8.0213           7.8474           2.0911   \n",
      "3         163.8500          83.2794         185.6730         210.1810   \n",
      "4        1646.6900        1702.4300         575.2100        1595.7000   \n",
      "\n",
      "   TCGA-ZF-AA5H-01  TCGA-ZF-AA5N-01  TCGA-ZF-AA5P-01  \n",
      "0           0.0000            1.227           0.0000  \n",
      "1           3.3904            0.000           7.0317  \n",
      "2           1.1387            0.000           4.0856  \n",
      "3         186.9380          155.301         114.1130  \n",
      "4        1100.5700         1123.930         778.2100  \n",
      "\n",
      "[5 rows x 410 columns]\n"
     ]
    }
   ],
   "source": [
    "print(df_mrna.shape)\n",
    "print(df_mrna.head(5))"
   ]
  },
  {
   "cell_type": "markdown",
   "id": "c713e23d-66f8-4757-bc9b-d9e7772b9b8a",
   "metadata": {},
   "source": [
    "so have 410 patients and 20531 genetic data"
   ]
  },
  {
   "cell_type": "markdown",
   "id": "f833c7ad-284e-4888-9fca-4c83359ae5f9",
   "metadata": {},
   "source": [
    "---"
   ]
  },
  {
   "cell_type": "markdown",
   "id": "c9f61e9f-71d2-4f47-9fc5-3f22e7e11be5",
   "metadata": {},
   "source": [
    "#### Feature eng, adding the mean and SD"
   ]
  },
  {
   "cell_type": "code",
   "execution_count": 38,
   "id": "13366f34-8e99-4b51-9606-d8337c7be038",
   "metadata": {},
   "outputs": [
    {
     "name": "stdout",
     "output_type": "stream",
     "text": [
      "       Entrez_Gene_Id  TCGA-2F-A9KO-01  TCGA-2F-A9KP-01  TCGA-2F-A9KQ-01  \\\n",
      "0           100130426           0.0000           0.0000           0.0000   \n",
      "1           100133144          20.4373          16.1382          13.3333   \n",
      "2           100134869          37.8717          12.5759          10.7742   \n",
      "3               10357         123.0900         137.8860         104.6780   \n",
      "4               10431         702.0410         882.2310         954.1030   \n",
      "...               ...              ...              ...              ...   \n",
      "20526          440590           5.8309          17.0620           1.8544   \n",
      "20527           79699         697.9590        1526.4300        1571.1600   \n",
      "20528            7791        4262.3900        3105.2900        3275.3800   \n",
      "20529           23140        1787.7600        1467.7500         750.5800   \n",
      "20530           26009         572.5950         860.5910         621.2330   \n",
      "\n",
      "       TCGA-2F-A9KR-01  TCGA-2F-A9KT-01  TCGA-2F-A9KW-01  TCGA-4Z-AA7M-01  \\\n",
      "0               0.0000           0.0000           0.0000           0.0000   \n",
      "1              15.3523          14.0136           7.1159          22.4891   \n",
      "2              42.5810          17.6427           2.3091          45.0490   \n",
      "3             146.4530         142.9620         176.8770         126.3560   \n",
      "4             487.2100         954.7770        1586.0300         634.5320   \n",
      "...                ...              ...              ...              ...   \n",
      "20526           1.8995           6.7835          51.3143          35.9477   \n",
      "20527         748.8600         878.4620        1493.8700         694.9890   \n",
      "20528        4465.6200        3449.4100        2778.3000        3293.0300   \n",
      "20529         910.7880         850.1980        2811.2900         770.6970   \n",
      "20530         935.4810         630.8650         746.1510         847.4950   \n",
      "\n",
      "       TCGA-4Z-AA7N-01  TCGA-4Z-AA7O-01  ...  TCGA-ZF-AA4X-01  \\\n",
      "0               0.0000           0.0000  ...           0.0000   \n",
      "1              26.1199          16.6052  ...          24.0360   \n",
      "2              25.2546           8.6650  ...          10.3812   \n",
      "3              97.3321         179.1990  ...          58.4972   \n",
      "4             642.6320         768.7450  ...         841.2210   \n",
      "...                ...              ...  ...              ...   \n",
      "20526           7.2105           0.0000  ...          23.6118   \n",
      "20527         621.9020         870.4900  ...        1311.4600   \n",
      "20528        5771.9700        4226.7700  ...        2098.6500   \n",
      "20529        1730.5100         712.8850  ...        1735.2700   \n",
      "20530         548.8960         684.9540  ...         683.5420   \n",
      "\n",
      "       TCGA-ZF-AA51-01  TCGA-ZF-AA52-01  TCGA-ZF-AA53-01  TCGA-ZF-AA54-01  \\\n",
      "0               0.0000           0.0000           0.0000           0.0000   \n",
      "1               0.0000           4.2992           0.0000           4.6306   \n",
      "2               5.2751          14.5465           6.8871           8.0213   \n",
      "3             119.0880          91.4959         163.8500          83.2794   \n",
      "4             859.0810         753.8280        1646.6900        1702.4300   \n",
      "...                ...              ...              ...              ...   \n",
      "20526          11.3037           1.7668          36.5014          94.1296   \n",
      "20527        1003.7700         624.2640         431.1300         523.2790   \n",
      "20528        2724.9400        6375.7400       11268.6000        7956.4800   \n",
      "20529         666.1640         724.3820         337.4660        1099.7000   \n",
      "20530         837.9800         628.9750         439.3940         844.6360   \n",
      "\n",
      "       TCGA-ZF-AA56-01  TCGA-ZF-AA58-01  TCGA-ZF-AA5H-01  TCGA-ZF-AA5N-01  \\\n",
      "0               0.4411           0.4216           0.0000           1.2270   \n",
      "1               5.8271           1.7032           3.3904           0.0000   \n",
      "2               7.8474           2.0911           1.1387           0.0000   \n",
      "3             185.6730         210.1810         186.9380         155.3010   \n",
      "4             575.2100        1595.7000        1100.5700        1123.9300   \n",
      "...                ...              ...              ...              ...   \n",
      "20526           2.2056         143.3390           0.3235          15.9509   \n",
      "20527         697.8390         711.2140         671.9240         358.2820   \n",
      "20528        5666.0800        9911.0500        9212.5000        6306.7500   \n",
      "20529         752.9770         745.3630         911.3190         850.3070   \n",
      "20530         619.3210         548.9040        1053.6600         380.3680   \n",
      "\n",
      "       TCGA-ZF-AA5P-01  \n",
      "0               0.0000  \n",
      "1               7.0317  \n",
      "2               4.0856  \n",
      "3             114.1130  \n",
      "4             778.2100  \n",
      "...                ...  \n",
      "20526          13.3407  \n",
      "20527         887.7150  \n",
      "20528       14836.0000  \n",
      "20529        1030.0200  \n",
      "20530        1253.4700  \n",
      "\n",
      "[20531 rows x 408 columns]\n"
     ]
    }
   ],
   "source": [
    "print(df_mrna.iloc[: , 2:])"
   ]
  },
  {
   "cell_type": "markdown",
   "id": "d3a9ff95-1aa8-41bf-834d-a41f5316f4a5",
   "metadata": {},
   "source": [
    "#### claculating new features"
   ]
  },
  {
   "cell_type": "code",
   "execution_count": 62,
   "id": "707feae1-4afc-462d-808e-b01e0eb0b07b",
   "metadata": {},
   "outputs": [],
   "source": [
    "df_mrna['mean'] = df_mrna.iloc[: , 2:].mean(axis=1)\n",
    "df_mrna['sd'] = df_mrna.iloc[: , 2:].std(axis=1)\n",
    "df_mrna['skew'] = df_mrna.iloc[: , 2:].skew(axis=1)\n",
    "\n"
   ]
  },
  {
   "cell_type": "code",
   "execution_count": 63,
   "id": "4e4ed899-c804-4f76-bca2-05fcb69b8a6c",
   "metadata": {},
   "outputs": [
    {
     "name": "stdout",
     "output_type": "stream",
     "text": [
      "(20531,)\n",
      "0        245417.739037\n",
      "1        245435.209589\n",
      "2        245439.938971\n",
      "3           183.926184\n",
      "4          1193.829010\n",
      "             ...      \n",
      "20526      1106.862275\n",
      "20527      1013.703338\n",
      "20528      5041.944789\n",
      "20529      1018.645934\n",
      "20530       736.395397\n",
      "Name: mean, Length: 20531, dtype: float64\n"
     ]
    }
   ],
   "source": [
    "print(df_mrna['mean'].shape)\n",
    "print(df_mrna['mean'])"
   ]
  },
  {
   "cell_type": "code",
   "execution_count": 73,
   "id": "2e72010e-2b05-4f68-b718-9fdebb205fe7",
   "metadata": {},
   "outputs": [
    {
     "data": {
      "text/plain": [
       "Text(0, 0.5, 'mean')"
      ]
     },
     "execution_count": 73,
     "metadata": {},
     "output_type": "execute_result"
    },
    {
     "data": {
      "image/png": "[encoded data removed]",
      "text/plain": [
       "<Figure size 432x288 with 1 Axes>"
      ]
     },
     "metadata": {
      "needs_background": "light"
     },
     "output_type": "display_data"
    }
   ],
   "source": [
    "# classes = ['B', 'S']\n",
    "scatter = plt.scatter(np.arange(0,len(df_mrna)), df_mrna['mean'] )\n",
    "# plt.legend(handles=scatter.legend_elements()[0], labels=classes)\n",
    "plt.xlabel('# samples')\n",
    "plt.ylabel('mean')"
   ]
  },
  {
   "cell_type": "code",
   "execution_count": 65,
   "id": "d253a401-6ba6-4183-b3be-04395e349ff9",
   "metadata": {},
   "outputs": [
    {
     "data": {
      "text/plain": [
       "Text(0, 0.5, 'sd')"
      ]
     },
     "execution_count": 65,
     "metadata": {},
     "output_type": "execute_result"
    },
    {
     "data": {
      "image/png": "[encoded data removed]",
      "text/plain": [
       "<Figure size 432x288 with 1 Axes>"
      ]
     },
     "metadata": {
      "needs_background": "light"
     },
     "output_type": "display_data"
    }
   ],
   "source": [
    "# classes = ['B', 'S']\n",
    "scatter = plt.scatter(np.arange(0,len(df_mrna)), df_mrna['sd']  )\n",
    "# plt.legend(handles=scatter.legend_elements()[0], labels=classes)\n",
    "\n",
    "plt.xlabel('# samples')\n",
    "plt.ylabel('sd')"
   ]
  },
  {
   "cell_type": "code",
   "execution_count": 67,
   "id": "10c83eff-c9ad-4104-848e-c645fb23cb20",
   "metadata": {},
   "outputs": [
    {
     "data": {
      "text/plain": [
       "Text(0, 0.5, 'skew')"
      ]
     },
     "execution_count": 67,
     "metadata": {},
     "output_type": "execute_result"
    },
    {
     "data": {
      "image/png": "[encoded data removed]",
      "text/plain": [
       "<Figure size 432x288 with 1 Axes>"
      ]
     },
     "metadata": {
      "needs_background": "light"
     },
     "output_type": "display_data"
    }
   ],
   "source": [
    "# classes = ['B', 'S']\n",
    "scatter = plt.scatter(np.arange(0,len(df_mrna)), df_mrna['skew']  )\n",
    "# plt.legend(handles=scatter.legend_elements()[0], labels=classes)\n",
    "\n",
    "plt.xlabel('# samples')\n",
    "plt.ylabel('skew')"
   ]
  },
  {
   "cell_type": "code",
   "execution_count": 91,
   "id": "cbbe6f64-a5e8-448d-a341-44d59e1b4935",
   "metadata": {},
   "outputs": [
    {
     "data": {
      "text/plain": [
       "(array([1.8578e+04, 1.0030e+03, 2.7100e+02, 1.0800e+02, 6.0000e+01,\n",
       "        3.5000e+01, 1.9000e+01, 1.6000e+01, 8.0000e+00, 1.0000e+01,\n",
       "        1.5000e+01, 1.1000e+01, 4.0000e+00, 5.0000e+00, 5.0000e+00,\n",
       "        2.0000e+00, 3.0000e+00, 0.0000e+00, 4.0000e+00, 3.0000e+00,\n",
       "        0.0000e+00, 2.0000e+00, 1.0000e+00, 1.0000e+00, 1.0000e+00,\n",
       "        1.0000e+00, 1.0000e+00, 0.0000e+00, 0.0000e+00, 0.0000e+00,\n",
       "        0.0000e+00, 2.0000e+00, 0.0000e+00, 1.0000e+00, 1.0000e+00,\n",
       "        0.0000e+00, 0.0000e+00, 0.0000e+00, 0.0000e+00, 0.0000e+00,\n",
       "        0.0000e+00, 0.0000e+00, 0.0000e+00, 0.0000e+00, 0.0000e+00,\n",
       "        1.0000e+00, 0.0000e+00, 0.0000e+00, 0.0000e+00, 0.0000e+00,\n",
       "        0.0000e+00, 0.0000e+00, 0.0000e+00, 0.0000e+00, 0.0000e+00,\n",
       "        0.0000e+00, 0.0000e+00, 0.0000e+00, 0.0000e+00, 0.0000e+00,\n",
       "        0.0000e+00, 0.0000e+00, 0.0000e+00, 0.0000e+00, 0.0000e+00,\n",
       "        0.0000e+00, 0.0000e+00, 0.0000e+00, 0.0000e+00, 0.0000e+00,\n",
       "        0.0000e+00, 0.0000e+00, 0.0000e+00, 0.0000e+00, 0.0000e+00,\n",
       "        0.0000e+00, 0.0000e+00, 0.0000e+00, 0.0000e+00, 0.0000e+00,\n",
       "        0.0000e+00, 0.0000e+00, 0.0000e+00, 0.0000e+00, 0.0000e+00,\n",
       "        0.0000e+00, 0.0000e+00, 0.0000e+00, 0.0000e+00, 0.0000e+00,\n",
       "        0.0000e+00, 0.0000e+00, 3.5400e+02, 2.0000e+00, 1.0000e+00,\n",
       "        0.0000e+00, 0.0000e+00, 0.0000e+00, 1.0000e+00, 1.0000e+00]),\n",
       " array([6.91893137e-01, 2.66458529e+03, 5.32847868e+03, 7.99237208e+03,\n",
       "        1.06562655e+04, 1.33201589e+04, 1.59840523e+04, 1.86479457e+04,\n",
       "        2.13118391e+04, 2.39757325e+04, 2.66396258e+04, 2.93035192e+04,\n",
       "        3.19674126e+04, 3.46313060e+04, 3.72951994e+04, 3.99590928e+04,\n",
       "        4.26229862e+04, 4.52868796e+04, 4.79507730e+04, 5.06146664e+04,\n",
       "        5.32785598e+04, 5.59424532e+04, 5.86063466e+04, 6.12702400e+04,\n",
       "        6.39341334e+04, 6.65980268e+04, 6.92619202e+04, 7.19258136e+04,\n",
       "        7.45897070e+04, 7.72536004e+04, 7.99174938e+04, 8.25813872e+04,\n",
       "        8.52452806e+04, 8.79091739e+04, 9.05730673e+04, 9.32369607e+04,\n",
       "        9.59008541e+04, 9.85647475e+04, 1.01228641e+05, 1.03892534e+05,\n",
       "        1.06556428e+05, 1.09220321e+05, 1.11884215e+05, 1.14548108e+05,\n",
       "        1.17212001e+05, 1.19875895e+05, 1.22539788e+05, 1.25203681e+05,\n",
       "        1.27867575e+05, 1.30531468e+05, 1.33195362e+05, 1.35859255e+05,\n",
       "        1.38523148e+05, 1.41187042e+05, 1.43850935e+05, 1.46514829e+05,\n",
       "        1.49178722e+05, 1.51842615e+05, 1.54506509e+05, 1.57170402e+05,\n",
       "        1.59834296e+05, 1.62498189e+05, 1.65162082e+05, 1.67825976e+05,\n",
       "        1.70489869e+05, 1.73153763e+05, 1.75817656e+05, 1.78481549e+05,\n",
       "        1.81145443e+05, 1.83809336e+05, 1.86473230e+05, 1.89137123e+05,\n",
       "        1.91801016e+05, 1.94464910e+05, 1.97128803e+05, 1.99792697e+05,\n",
       "        2.02456590e+05, 2.05120483e+05, 2.07784377e+05, 2.10448270e+05,\n",
       "        2.13112164e+05, 2.15776057e+05, 2.18439950e+05, 2.21103844e+05,\n",
       "        2.23767737e+05, 2.26431631e+05, 2.29095524e+05, 2.31759417e+05,\n",
       "        2.34423311e+05, 2.37087204e+05, 2.39751098e+05, 2.42414991e+05,\n",
       "        2.45078884e+05, 2.47742778e+05, 2.50406671e+05, 2.53070564e+05,\n",
       "        2.55734458e+05, 2.58398351e+05, 2.61062245e+05, 2.63726138e+05,\n",
       "        2.66390031e+05]),\n",
       " <BarContainer object of 100 artists>)"
      ]
     },
     "execution_count": 91,
     "metadata": {},
     "output_type": "execute_result"
    },
    {
     "data": {
      "image/png": "[encoded data removed]",
      "text/plain": [
       "<Figure size 432x288 with 1 Axes>"
      ]
     },
     "metadata": {
      "needs_background": "light"
     },
     "output_type": "display_data"
    }
   ],
   "source": [
    "plt.hist(df_mrna['mean'],100)\n"
   ]
  },
  {
   "cell_type": "code",
   "execution_count": 87,
   "id": "9b65337e-01d9-4c4a-91ed-4980310b56fc",
   "metadata": {},
   "outputs": [
    {
     "data": {
      "text/plain": [
       "(array([1.9408e+04, 7.4600e+02, 8.0000e+00, 6.0000e+00, 1.0000e+00,\n",
       "        1.0000e+00, 2.0000e+00, 0.0000e+00, 0.0000e+00, 0.0000e+00,\n",
       "        0.0000e+00, 0.0000e+00, 0.0000e+00, 0.0000e+00, 0.0000e+00,\n",
       "        0.0000e+00, 0.0000e+00, 0.0000e+00, 0.0000e+00, 0.0000e+00,\n",
       "        0.0000e+00, 0.0000e+00, 0.0000e+00, 0.0000e+00, 0.0000e+00,\n",
       "        0.0000e+00, 0.0000e+00, 0.0000e+00, 0.0000e+00, 0.0000e+00,\n",
       "        0.0000e+00, 0.0000e+00, 0.0000e+00, 0.0000e+00, 0.0000e+00,\n",
       "        0.0000e+00, 0.0000e+00, 0.0000e+00, 0.0000e+00, 0.0000e+00,\n",
       "        0.0000e+00, 0.0000e+00, 0.0000e+00, 0.0000e+00, 0.0000e+00,\n",
       "        0.0000e+00, 0.0000e+00, 0.0000e+00, 0.0000e+00, 0.0000e+00,\n",
       "        0.0000e+00, 0.0000e+00, 0.0000e+00, 0.0000e+00, 0.0000e+00,\n",
       "        0.0000e+00, 0.0000e+00, 0.0000e+00, 0.0000e+00, 0.0000e+00,\n",
       "        0.0000e+00, 0.0000e+00, 0.0000e+00, 0.0000e+00, 0.0000e+00,\n",
       "        0.0000e+00, 0.0000e+00, 0.0000e+00, 0.0000e+00, 0.0000e+00,\n",
       "        0.0000e+00, 0.0000e+00, 0.0000e+00, 0.0000e+00, 0.0000e+00,\n",
       "        0.0000e+00, 0.0000e+00, 0.0000e+00, 0.0000e+00, 0.0000e+00,\n",
       "        0.0000e+00, 0.0000e+00, 0.0000e+00, 0.0000e+00, 0.0000e+00,\n",
       "        0.0000e+00, 0.0000e+00, 0.0000e+00, 0.0000e+00, 0.0000e+00,\n",
       "        0.0000e+00, 0.0000e+00, 0.0000e+00, 0.0000e+00, 0.0000e+00,\n",
       "        0.0000e+00, 0.0000e+00, 0.0000e+00, 0.0000e+00, 0.0000e+00,\n",
       "        0.0000e+00, 0.0000e+00, 0.0000e+00, 0.0000e+00, 0.0000e+00,\n",
       "        0.0000e+00, 0.0000e+00, 0.0000e+00, 0.0000e+00, 0.0000e+00,\n",
       "        0.0000e+00, 0.0000e+00, 0.0000e+00, 0.0000e+00, 0.0000e+00,\n",
       "        0.0000e+00, 0.0000e+00, 0.0000e+00, 0.0000e+00, 0.0000e+00,\n",
       "        0.0000e+00, 0.0000e+00, 0.0000e+00, 0.0000e+00, 0.0000e+00,\n",
       "        0.0000e+00, 0.0000e+00, 0.0000e+00, 0.0000e+00, 0.0000e+00,\n",
       "        0.0000e+00, 0.0000e+00, 0.0000e+00, 0.0000e+00, 0.0000e+00,\n",
       "        0.0000e+00, 0.0000e+00, 0.0000e+00, 0.0000e+00, 0.0000e+00,\n",
       "        0.0000e+00, 0.0000e+00, 0.0000e+00, 0.0000e+00, 0.0000e+00,\n",
       "        0.0000e+00, 0.0000e+00, 0.0000e+00, 0.0000e+00, 0.0000e+00,\n",
       "        0.0000e+00, 0.0000e+00, 0.0000e+00, 0.0000e+00, 0.0000e+00,\n",
       "        0.0000e+00, 0.0000e+00, 0.0000e+00, 0.0000e+00, 0.0000e+00,\n",
       "        0.0000e+00, 0.0000e+00, 0.0000e+00, 0.0000e+00, 0.0000e+00,\n",
       "        0.0000e+00, 0.0000e+00, 0.0000e+00, 0.0000e+00, 0.0000e+00,\n",
       "        0.0000e+00, 0.0000e+00, 0.0000e+00, 0.0000e+00, 0.0000e+00,\n",
       "        0.0000e+00, 0.0000e+00, 0.0000e+00, 0.0000e+00, 0.0000e+00,\n",
       "        0.0000e+00, 0.0000e+00, 0.0000e+00, 0.0000e+00, 0.0000e+00,\n",
       "        0.0000e+00, 0.0000e+00, 0.0000e+00, 0.0000e+00, 7.4000e+01,\n",
       "        2.8300e+02, 0.0000e+00, 0.0000e+00, 0.0000e+00, 1.0000e+00,\n",
       "        0.0000e+00, 0.0000e+00, 0.0000e+00, 0.0000e+00, 1.0000e+00]),\n",
       " array([1.17762148e+00, 2.60525075e+04, 5.21038374e+04, 7.81551673e+04,\n",
       "        1.04206497e+05, 1.30257827e+05, 1.56309157e+05, 1.82360487e+05,\n",
       "        2.08411817e+05, 2.34463147e+05, 2.60514477e+05, 2.86565806e+05,\n",
       "        3.12617136e+05, 3.38668466e+05, 3.64719796e+05, 3.90771126e+05,\n",
       "        4.16822456e+05, 4.42873786e+05, 4.68925116e+05, 4.94976446e+05,\n",
       "        5.21027776e+05, 5.47079105e+05, 5.73130435e+05, 5.99181765e+05,\n",
       "        6.25233095e+05, 6.51284425e+05, 6.77335755e+05, 7.03387085e+05,\n",
       "        7.29438415e+05, 7.55489745e+05, 7.81541075e+05, 8.07592404e+05,\n",
       "        8.33643734e+05, 8.59695064e+05, 8.85746394e+05, 9.11797724e+05,\n",
       "        9.37849054e+05, 9.63900384e+05, 9.89951714e+05, 1.01600304e+06,\n",
       "        1.04205437e+06, 1.06810570e+06, 1.09415703e+06, 1.12020836e+06,\n",
       "        1.14625969e+06, 1.17231102e+06, 1.19836235e+06, 1.22441368e+06,\n",
       "        1.25046501e+06, 1.27651634e+06, 1.30256767e+06, 1.32861900e+06,\n",
       "        1.35467033e+06, 1.38072166e+06, 1.40677299e+06, 1.43282432e+06,\n",
       "        1.45887565e+06, 1.48492698e+06, 1.51097831e+06, 1.53702964e+06,\n",
       "        1.56308097e+06, 1.58913230e+06, 1.61518363e+06, 1.64123496e+06,\n",
       "        1.66728629e+06, 1.69333762e+06, 1.71938895e+06, 1.74544028e+06,\n",
       "        1.77149161e+06, 1.79754294e+06, 1.82359427e+06, 1.84964560e+06,\n",
       "        1.87569693e+06, 1.90174826e+06, 1.92779959e+06, 1.95385092e+06,\n",
       "        1.97990225e+06, 2.00595358e+06, 2.03200491e+06, 2.05805624e+06,\n",
       "        2.08410757e+06, 2.11015890e+06, 2.13621023e+06, 2.16226156e+06,\n",
       "        2.18831289e+06, 2.21436422e+06, 2.24041555e+06, 2.26646688e+06,\n",
       "        2.29251821e+06, 2.31856954e+06, 2.34462087e+06, 2.37067220e+06,\n",
       "        2.39672353e+06, 2.42277486e+06, 2.44882619e+06, 2.47487752e+06,\n",
       "        2.50092885e+06, 2.52698018e+06, 2.55303151e+06, 2.57908284e+06,\n",
       "        2.60513417e+06, 2.63118550e+06, 2.65723683e+06, 2.68328816e+06,\n",
       "        2.70933949e+06, 2.73539082e+06, 2.76144215e+06, 2.78749348e+06,\n",
       "        2.81354481e+06, 2.83959614e+06, 2.86564747e+06, 2.89169880e+06,\n",
       "        2.91775013e+06, 2.94380146e+06, 2.96985279e+06, 2.99590412e+06,\n",
       "        3.02195545e+06, 3.04800678e+06, 3.07405811e+06, 3.10010944e+06,\n",
       "        3.12616077e+06, 3.15221210e+06, 3.17826342e+06, 3.20431475e+06,\n",
       "        3.23036608e+06, 3.25641741e+06, 3.28246874e+06, 3.30852007e+06,\n",
       "        3.33457140e+06, 3.36062273e+06, 3.38667406e+06, 3.41272539e+06,\n",
       "        3.43877672e+06, 3.46482805e+06, 3.49087938e+06, 3.51693071e+06,\n",
       "        3.54298204e+06, 3.56903337e+06, 3.59508470e+06, 3.62113603e+06,\n",
       "        3.64718736e+06, 3.67323869e+06, 3.69929002e+06, 3.72534135e+06,\n",
       "        3.75139268e+06, 3.77744401e+06, 3.80349534e+06, 3.82954667e+06,\n",
       "        3.85559800e+06, 3.88164933e+06, 3.90770066e+06, 3.93375199e+06,\n",
       "        3.95980332e+06, 3.98585465e+06, 4.01190598e+06, 4.03795731e+06,\n",
       "        4.06400864e+06, 4.09005997e+06, 4.11611130e+06, 4.14216263e+06,\n",
       "        4.16821396e+06, 4.19426529e+06, 4.22031662e+06, 4.24636795e+06,\n",
       "        4.27241928e+06, 4.29847061e+06, 4.32452194e+06, 4.35057327e+06,\n",
       "        4.37662460e+06, 4.40267593e+06, 4.42872726e+06, 4.45477859e+06,\n",
       "        4.48082992e+06, 4.50688125e+06, 4.53293258e+06, 4.55898391e+06,\n",
       "        4.58503524e+06, 4.61108657e+06, 4.63713790e+06, 4.66318923e+06,\n",
       "        4.68924056e+06, 4.71529189e+06, 4.74134322e+06, 4.76739455e+06,\n",
       "        4.79344588e+06, 4.81949721e+06, 4.84554854e+06, 4.87159987e+06,\n",
       "        4.89765120e+06, 4.92370253e+06, 4.94975386e+06, 4.97580519e+06,\n",
       "        5.00185652e+06, 5.02790785e+06, 5.05395918e+06, 5.08001051e+06,\n",
       "        5.10606184e+06, 5.13211317e+06, 5.15816450e+06, 5.18421583e+06,\n",
       "        5.21026716e+06]),\n",
       " <BarContainer object of 200 artists>)"
      ]
     },
     "execution_count": 87,
     "metadata": {},
     "output_type": "execute_result"
    },
    {
     "data": {
      "image/png": "[encoded data removed]",
      "text/plain": [
       "<Figure size 432x288 with 1 Axes>"
      ]
     },
     "metadata": {
      "needs_background": "light"
     },
     "output_type": "display_data"
    }
   ],
   "source": [
    "plt.hist(df_mrna['sd'],200)\n"
   ]
  },
  {
   "cell_type": "code",
   "execution_count": 88,
   "id": "9d611b8c-15a1-4d78-9084-c65448a74797",
   "metadata": {},
   "outputs": [
    {
     "data": {
      "text/plain": [
       "(array([1.000e+00, 1.000e+00, 1.000e+00, 4.000e+00, 1.000e+01, 1.100e+01,\n",
       "        2.900e+01, 2.800e+01, 5.600e+01, 6.200e+01, 7.400e+01, 7.700e+01,\n",
       "        1.000e+02, 9.800e+01, 1.120e+02, 1.130e+02, 1.170e+02, 1.220e+02,\n",
       "        1.050e+02, 9.300e+01, 9.400e+01, 1.090e+02, 9.600e+01, 1.100e+02,\n",
       "        1.100e+02, 9.400e+01, 9.700e+01, 8.800e+01, 7.100e+01, 7.200e+01,\n",
       "        7.600e+01, 6.900e+01, 7.600e+01, 6.900e+01, 7.000e+01, 6.100e+01,\n",
       "        7.100e+01, 5.800e+01, 5.800e+01, 6.500e+01, 5.500e+01, 7.300e+01,\n",
       "        5.600e+01, 6.000e+01, 5.300e+01, 5.600e+01, 5.700e+01, 4.400e+01,\n",
       "        4.700e+01, 4.100e+01, 4.800e+01, 4.400e+01, 4.900e+01, 5.000e+01,\n",
       "        4.400e+01, 4.600e+01, 4.500e+01, 4.700e+01, 4.000e+01, 3.300e+01,\n",
       "        4.000e+01, 3.300e+01, 3.800e+01, 3.400e+01, 4.200e+01, 3.500e+01,\n",
       "        3.300e+01, 3.500e+01, 4.200e+01, 3.200e+01, 3.000e+01, 5.100e+01,\n",
       "        3.500e+01, 3.200e+01, 3.700e+01, 2.400e+01, 3.400e+01, 2.400e+01,\n",
       "        2.300e+01, 2.900e+01, 2.700e+01, 2.900e+01, 2.600e+01, 2.600e+01,\n",
       "        2.700e+01, 3.100e+01, 2.900e+01, 3.100e+01, 2.100e+01, 3.800e+01,\n",
       "        2.700e+01, 4.000e+01, 3.600e+01, 3.400e+01, 2.600e+01, 3.100e+01,\n",
       "        2.600e+01, 2.600e+01, 2.200e+01, 1.800e+01, 2.700e+01, 3.600e+01,\n",
       "        3.200e+01, 2.700e+01, 2.900e+01, 3.000e+01, 2.500e+01, 3.200e+01,\n",
       "        2.200e+01, 2.800e+01, 2.600e+01, 3.400e+01, 2.100e+01, 3.700e+01,\n",
       "        2.400e+01, 2.900e+01, 3.100e+01, 3.300e+01, 1.800e+01, 2.400e+01,\n",
       "        3.200e+01, 2.900e+01, 2.400e+01, 2.800e+01, 2.000e+01, 3.200e+01,\n",
       "        3.200e+01, 3.000e+01, 3.100e+01, 3.400e+01, 1.600e+01, 3.000e+01,\n",
       "        1.700e+01, 2.900e+01, 3.800e+01, 2.800e+01, 3.200e+01, 2.400e+01,\n",
       "        2.600e+01, 2.100e+01, 2.400e+01, 2.700e+01, 2.700e+01, 2.700e+01,\n",
       "        3.300e+01, 3.500e+01, 2.600e+01, 3.300e+01, 3.600e+01, 2.400e+01,\n",
       "        4.600e+01, 2.200e+01, 3.200e+01, 3.900e+01, 3.300e+01, 3.500e+01,\n",
       "        3.900e+01, 3.200e+01, 4.400e+01, 3.600e+01, 3.400e+01, 3.800e+01,\n",
       "        3.800e+01, 4.600e+01, 3.900e+01, 3.900e+01, 3.800e+01, 5.200e+01,\n",
       "        4.800e+01, 3.700e+01, 4.500e+01, 5.000e+01, 5.400e+01, 4.800e+01,\n",
       "        5.500e+01, 4.800e+01, 5.900e+01, 6.900e+01, 5.000e+01, 6.100e+01,\n",
       "        8.200e+01, 6.000e+01, 9.600e+01, 9.100e+01, 7.300e+01, 9.200e+01,\n",
       "        1.030e+02, 9.400e+01, 1.090e+02, 1.250e+02, 1.580e+02, 1.610e+02,\n",
       "        1.960e+02, 2.200e+02, 2.410e+02, 2.880e+02, 3.740e+02, 5.670e+02,\n",
       "        8.890e+02, 8.726e+03]),\n",
       " array([ 0.0504675 ,  0.15111021,  0.25175292,  0.35239562,  0.45303833,\n",
       "         0.55368104,  0.65432374,  0.75496645,  0.85560915,  0.95625186,\n",
       "         1.05689457,  1.15753727,  1.25817998,  1.35882269,  1.45946539,\n",
       "         1.5601081 ,  1.6607508 ,  1.76139351,  1.86203622,  1.96267892,\n",
       "         2.06332163,  2.16396434,  2.26460704,  2.36524975,  2.46589245,\n",
       "         2.56653516,  2.66717787,  2.76782057,  2.86846328,  2.96910599,\n",
       "         3.06974869,  3.1703914 ,  3.2710341 ,  3.37167681,  3.47231952,\n",
       "         3.57296222,  3.67360493,  3.77424764,  3.87489034,  3.97553305,\n",
       "         4.07617575,  4.17681846,  4.27746117,  4.37810387,  4.47874658,\n",
       "         4.57938929,  4.68003199,  4.7806747 ,  4.8813174 ,  4.98196011,\n",
       "         5.08260282,  5.18324552,  5.28388823,  5.38453094,  5.48517364,\n",
       "         5.58581635,  5.68645905,  5.78710176,  5.88774447,  5.98838717,\n",
       "         6.08902988,  6.18967259,  6.29031529,  6.390958  ,  6.4916007 ,\n",
       "         6.59224341,  6.69288612,  6.79352882,  6.89417153,  6.99481424,\n",
       "         7.09545694,  7.19609965,  7.29674235,  7.39738506,  7.49802777,\n",
       "         7.59867047,  7.69931318,  7.79995589,  7.90059859,  8.0012413 ,\n",
       "         8.101884  ,  8.20252671,  8.30316942,  8.40381212,  8.50445483,\n",
       "         8.60509754,  8.70574024,  8.80638295,  8.90702565,  9.00766836,\n",
       "         9.10831107,  9.20895377,  9.30959648,  9.41023919,  9.51088189,\n",
       "         9.6115246 ,  9.7121673 ,  9.81281001,  9.91345272, 10.01409542,\n",
       "        10.11473813, 10.21538084, 10.31602354, 10.41666625, 10.51730895,\n",
       "        10.61795166, 10.71859437, 10.81923707, 10.91987978, 11.02052249,\n",
       "        11.12116519, 11.2218079 , 11.3224506 , 11.42309331, 11.52373602,\n",
       "        11.62437872, 11.72502143, 11.82566414, 11.92630684, 12.02694955,\n",
       "        12.12759225, 12.22823496, 12.32887767, 12.42952037, 12.53016308,\n",
       "        12.63080579, 12.73144849, 12.8320912 , 12.9327339 , 13.03337661,\n",
       "        13.13401932, 13.23466202, 13.33530473, 13.43594744, 13.53659014,\n",
       "        13.63723285, 13.73787555, 13.83851826, 13.93916097, 14.03980367,\n",
       "        14.14044638, 14.24108909, 14.34173179, 14.4423745 , 14.5430172 ,\n",
       "        14.64365991, 14.74430262, 14.84494532, 14.94558803, 15.04623074,\n",
       "        15.14687344, 15.24751615, 15.34815885, 15.44880156, 15.54944427,\n",
       "        15.65008697, 15.75072968, 15.85137239, 15.95201509, 16.0526578 ,\n",
       "        16.1533005 , 16.25394321, 16.35458592, 16.45522862, 16.55587133,\n",
       "        16.65651404, 16.75715674, 16.85779945, 16.95844215, 17.05908486,\n",
       "        17.15972757, 17.26037027, 17.36101298, 17.46165569, 17.56229839,\n",
       "        17.6629411 , 17.7635838 , 17.86422651, 17.96486922, 18.06551192,\n",
       "        18.16615463, 18.26679734, 18.36744004, 18.46808275, 18.56872545,\n",
       "        18.66936816, 18.77001087, 18.87065357, 18.97129628, 19.07193899,\n",
       "        19.17258169, 19.2732244 , 19.3738671 , 19.47450981, 19.57515252,\n",
       "        19.67579522, 19.77643793, 19.87708064, 19.97772334, 20.07836605,\n",
       "        20.17900875]),\n",
       " <BarContainer object of 200 artists>)"
      ]
     },
     "execution_count": 88,
     "metadata": {},
     "output_type": "execute_result"
    },
    {
     "data": {
      "image/png": "[encoded data removed]",
      "text/plain": [
       "<Figure size 432x288 with 1 Axes>"
      ]
     },
     "metadata": {
      "needs_background": "light"
     },
     "output_type": "display_data"
    }
   ],
   "source": [
    "plt.hist(df_mrna['skew'],200)"
   ]
  },
  {
   "cell_type": "code",
   "execution_count": null,
   "id": "be6f40b0-1a92-44b6-8fc1-c120b1401912",
   "metadata": {},
   "outputs": [],
   "source": [
    "ataset = pd.read_csv(r'/content/Bladder_Cancer/data_mrna_seq_v2_rsem.txt', sep='\\t')\n",
    "Dataset.Hugo_Symbol.fillna(Dataset.Entrez_Gene_Id, inplace = True)\n",
    "del Dataset['Entrez_Gene_Id']\n",
    "RSEMDF = Dataset.set_index('Hugo_Symbol')\n",
    "RSEMDF.columns = RSEMDF.columns.str.replace('-01','')\n",
    "geneIDs = np.array(RSEMDF.index.values)\n",
    "RSEMPatientID = list(RSEMDF)\n",
    "# print(RSEMPatientID == ClinicalPatientID) # Returns False\n",
    "ClinicalDF = ClinicalDF.drop(list(set(ClinicalPatientID) - set(RSEMPatientID)), axis = 0)\n",
    "RSEMDF = RSEMDF.drop(list(set(RSEMPatientID) - set(ClinicalPatientID)), axis = 1)\n",
    "ClinicalPatientID = list(ClinicalDF.index.values)\n",
    "RSEMPatientID = list(RSEMDF)"
   ]
  }
 ],
 "metadata": {
  "kernelspec": {
   "display_name": "cancer_ker",
   "language": "python",
   "name": "cancer_ker"
  },
  "language_info": {
   "codemirror_mode": {
    "name": "ipython",
    "version": 3
   },
   "file_extension": ".py",
   "mimetype": "text/x-python",
   "name": "python",
   "nbconvert_exporter": "python",
   "pygments_lexer": "ipython3",
   "version": "3.8.10"
  }
 },
 "nbformat": 4,
 "nbformat_minor": 5
}
